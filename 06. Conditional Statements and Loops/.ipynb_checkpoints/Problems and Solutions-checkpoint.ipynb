{
 "cells": [
  {
   "cell_type": "markdown",
   "metadata": {},
   "source": [
    "### Python Conditional Statements and loops"
   ]
  },
  {
   "cell_type": "markdown",
   "metadata": {},
   "source": [
    "#### 1. Write a Python program to construct the following pattern, using a nested for loop. \n",
    "\n",
    "(double click here to see pattern)\n",
    "\n",
    "* \n",
    "* * \n",
    "* * * \n",
    "* * * * \n",
    "* * * * * \n",
    "* * * * \n",
    "* * * \n",
    "* * \n",
    "*"
   ]
  },
  {
   "cell_type": "code",
   "execution_count": 1,
   "metadata": {},
   "outputs": [
    {
     "name": "stdout",
     "output_type": "stream",
     "text": [
      "\n",
      "* \n",
      "* * \n",
      "* * * \n",
      "* * * * \n",
      "* * * * * \n",
      "* * * * \n",
      "* * * \n",
      "* * \n",
      "* \n"
     ]
    }
   ],
   "source": [
    "n=5;\n",
    "for i in range(n):\n",
    "    for j in range(i):\n",
    "        print ('* ', end=\"\")\n",
    "    print('')\n",
    "\n",
    "for i in range(n,0,-1):\n",
    "    for j in range(i):\n",
    "        print('* ', end=\"\")\n",
    "    print('')"
   ]
  },
  {
   "cell_type": "markdown",
   "metadata": {},
   "source": [
    "#### 2. Write a Python program to count the number of even and odd numbers from a series of numbers. \n",
    "* Sample numbers : numbers = (1, 2, 3, 4, 5, 6, 7, 8, 9) \n",
    "##### Expected Output : \n",
    "* Number of even numbers : 5\n",
    "* Number of odd numbers : 4"
   ]
  },
  {
   "cell_type": "code",
   "execution_count": 2,
   "metadata": {},
   "outputs": [
    {
     "name": "stdout",
     "output_type": "stream",
     "text": [
      "Number of even numbers : 4\n",
      "Number of odd numbers : 5\n"
     ]
    }
   ],
   "source": [
    "numbers = (1, 2, 3, 4, 5, 6, 7, 8, 9) # Declaring the tuple\n",
    "count_odd = 0\n",
    "count_even = 0\n",
    "for x in numbers:\n",
    "        if not x % 2:\n",
    "    \t     count_even+=1\n",
    "        else:\n",
    "    \t     count_odd+=1\n",
    "print(\"Number of even numbers :\",count_even)\n",
    "print(\"Number of odd numbers :\",count_odd)"
   ]
  },
  {
   "cell_type": "markdown",
   "metadata": {},
   "source": [
    "####  3. Write a Python program that prints all the numbers from 0 to 6 except 3 and 6.\n",
    "* Note : Use 'continue' statement. \n",
    "* Expected Output : 0 1 2 4 5 "
   ]
  },
  {
   "cell_type": "code",
   "execution_count": 1,
   "metadata": {},
   "outputs": [
    {
     "name": "stdout",
     "output_type": "stream",
     "text": [
      "0 1 2 4 5 \n",
      "\n"
     ]
    }
   ],
   "source": [
    "for x in range(6):\n",
    "    if (x == 3 or x==6):\n",
    "        continue\n",
    "    print(x,end=' ')\n",
    "print(\"\\n\")"
   ]
  },
  {
   "cell_type": "markdown",
   "metadata": {},
   "source": [
    "#### 4. Write a Python program to get the Fibonacci series between 0 to 50. \n",
    "##### Note : The Fibonacci Sequence is the series of numbers :\n",
    "* 0, 1, 1, 2, 3, 5, 8, 13, 21, .... \n",
    "* Every next number is found by adding up the two numbers before it.\n",
    "* Expected Output : 1 1 2 3 5 8 13 21 34"
   ]
  },
  {
   "cell_type": "code",
   "execution_count": 2,
   "metadata": {},
   "outputs": [
    {
     "name": "stdout",
     "output_type": "stream",
     "text": [
      "1\n",
      "1\n",
      "2\n",
      "3\n",
      "5\n",
      "8\n",
      "13\n",
      "21\n",
      "34\n"
     ]
    }
   ],
   "source": [
    "x,y=0,1\n",
    "\n",
    "while y<50:\n",
    "    print(y)\n",
    "    x,y = y,x+y"
   ]
  },
  {
   "cell_type": "markdown",
   "metadata": {},
   "source": [
    "#### 5. Write a Python program which takes two digits m (row) and n (column) as input and generates a two-dimensional array. The element value in the i-th row and j-th column of the array should be i*j. \n",
    "\n",
    "##### Note :\n",
    "* i = 0,1.., m-1 \n",
    "* j = 0,1, n-1.\n",
    "\n",
    "* Test Data : Rows = 3, Columns = 4 \n",
    "* Expected Result : [[0, 0, 0, 0], [0, 1, 2, 3], [0, 2, 4, 6]]"
   ]
  },
  {
   "cell_type": "code",
   "execution_count": 3,
   "metadata": {},
   "outputs": [
    {
     "name": "stdout",
     "output_type": "stream",
     "text": [
      "Input number of rows: 2\n",
      "Input number of columns: 2\n",
      "[[0, 0], [0, 1]]\n"
     ]
    }
   ],
   "source": [
    "row_num = int(input(\"Input number of rows: \"))\n",
    "col_num = int(input(\"Input number of columns: \"))\n",
    "multi_list = [[0 for col in range(col_num)] for row in range(row_num)]\n",
    "\n",
    "for row in range(row_num):\n",
    "    for col in range(col_num):\n",
    "        multi_list[row][col]= row*col\n",
    "\n",
    "print(multi_list)"
   ]
  },
  {
   "cell_type": "markdown",
   "metadata": {},
   "source": [
    "#### 6. Write a Python program to find numbers between 100 and 400 (both included) where each digit of a number is an even number. The numbers obtained should be printed in a comma-separated sequence"
   ]
  },
  {
   "cell_type": "code",
   "execution_count": 4,
   "metadata": {},
   "outputs": [
    {
     "name": "stdout",
     "output_type": "stream",
     "text": [
      "200,202,204,206,208,220,222,224,226,228,240,242,244,246,248,260,262,264,266,268,280,282,284,286,288,400\n"
     ]
    }
   ],
   "source": [
    "items = []\n",
    "for i in range(100, 401):\n",
    "    s = str(i)\n",
    "    if (int(s[0])%2==0) and (int(s[1])%2==0) and (int(s[2])%2==0):\n",
    "        items.append(s)\n",
    "print( \",\".join(items))"
   ]
  },
  {
   "cell_type": "markdown",
   "metadata": {},
   "source": [
    " #### 7. Write a Python program to print alphabet pattern 'A'."
   ]
  },
  {
   "cell_type": "code",
   "execution_count": 5,
   "metadata": {},
   "outputs": [
    {
     "name": "stdout",
     "output_type": "stream",
     "text": [
      "  ***  \n",
      " *   * \n",
      " *   * \n",
      " ***** \n",
      " *   * \n",
      " *   * \n",
      " *   * \n",
      "\n"
     ]
    }
   ],
   "source": [
    "result_str=\"\";    \n",
    "for row in range(0,7):    \n",
    "    for column in range(0,7):     \n",
    "        if (((column == 1 or column == 5) and row != 0) or ((row == 0 or row == 3) and (column > 1 and column < 5))):    \n",
    "            result_str=result_str+\"*\"    \n",
    "        else:      \n",
    "            result_str=result_str+\" \"    \n",
    "    result_str=result_str+\"\\n\"    \n",
    "print(result_str);"
   ]
  },
  {
   "cell_type": "markdown",
   "metadata": {},
   "source": [
    "#### 8. Write a Python program to print alphabet pattern 'P'"
   ]
  },
  {
   "cell_type": "code",
   "execution_count": 6,
   "metadata": {},
   "outputs": [
    {
     "name": "stdout",
     "output_type": "stream",
     "text": [
      " ****  \n",
      " *   * \n",
      " *   * \n",
      " ****  \n",
      " *     \n",
      " *     \n",
      " *     \n",
      "\n"
     ]
    }
   ],
   "source": [
    "result_str=\"\";    \n",
    "for row in range(0,7):    \n",
    "    for column in range(0,7):     \n",
    "        if (column == 1 or ((row == 0 or row == 3) and column > 0 and column < 5) or ((column == 5 or column == 1) and (row == 1 or row == 2))):  \n",
    "            result_str=result_str+\"*\"    \n",
    "        else:      \n",
    "            result_str=result_str+\" \"    \n",
    "    result_str=result_str+\"\\n\"    \n",
    "print(result_str);"
   ]
  },
  {
   "cell_type": "markdown",
   "metadata": {},
   "source": [
    "#### 9. Write a Python program to check a triangle is valid or not."
   ]
  },
  {
   "cell_type": "code",
   "execution_count": null,
   "metadata": {},
   "outputs": [],
   "source": []
  },
  {
   "cell_type": "markdown",
   "metadata": {},
   "source": [
    "#### 10. Write a Python program to create the multiplication table (from 1 to 10) of a number."
   ]
  },
  {
   "cell_type": "code",
   "execution_count": 8,
   "metadata": {},
   "outputs": [
    {
     "name": "stdout",
     "output_type": "stream",
     "text": [
      "Input a number: 5\n",
      "5 x 1 = 5\n",
      "5 x 2 = 10\n",
      "5 x 3 = 15\n",
      "5 x 4 = 20\n",
      "5 x 5 = 25\n",
      "5 x 6 = 30\n",
      "5 x 7 = 35\n",
      "5 x 8 = 40\n",
      "5 x 9 = 45\n",
      "5 x 10 = 50\n"
     ]
    }
   ],
   "source": [
    "n = int(input(\"Input a number: \"))\n",
    "\n",
    "# use for loop to iterate 10 times\n",
    "for i in range(1,11):\n",
    "   print(n,'x',i,'=',n*i)"
   ]
  },
  {
   "cell_type": "markdown",
   "metadata": {},
   "source": [
    "#### 11. Write a Python program to construct the following pattern, using a nested loop number.\n",
    "1\n",
    "22\n",
    "333\n",
    "4444\n",
    "55555\n",
    "666666\n",
    "7777777\n",
    "88888888\n",
    "999999999\n"
   ]
  },
  {
   "cell_type": "code",
   "execution_count": 9,
   "metadata": {},
   "outputs": [
    {
     "name": "stdout",
     "output_type": "stream",
     "text": [
      "\n",
      "1\n",
      "22\n",
      "333\n",
      "4444\n",
      "55555\n",
      "666666\n",
      "7777777\n",
      "88888888\n",
      "999999999\n"
     ]
    }
   ],
   "source": [
    "for i in range(10):\n",
    "    print(str(i) * i)"
   ]
  }
 ],
 "metadata": {
  "kernelspec": {
   "display_name": "Python 3",
   "language": "python",
   "name": "python3"
  },
  "language_info": {
   "codemirror_mode": {
    "name": "ipython",
    "version": 3
   },
   "file_extension": ".py",
   "mimetype": "text/x-python",
   "name": "python",
   "nbconvert_exporter": "python",
   "pygments_lexer": "ipython3",
   "version": "3.6.1"
  }
 },
 "nbformat": 4,
 "nbformat_minor": 2
}
